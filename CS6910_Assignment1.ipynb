{
  "nbformat": 4,
  "nbformat_minor": 0,
  "metadata": {
    "colab": {
      "name": " CS6910_Assignment1",
      "provenance": [],
      "collapsed_sections": [],
      "authorship_tag": "ABX9TyPTBALrdLwHIKO7La8hqlw4",
      "include_colab_link": true
    },
    "kernelspec": {
      "name": "python3",
      "display_name": "Python 3"
    },
    "language_info": {
      "name": "python"
    }
  },
  "cells": [
    {
      "cell_type": "markdown",
      "metadata": {
        "id": "view-in-github",
        "colab_type": "text"
      },
      "source": [
        "<a href=\"https://colab.research.google.com/github/safikhanSoofiyani/CS6910-Assignment1/blob/main/CS6910_Assignment1.ipynb\" target=\"_parent\"><img src=\"https://colab.research.google.com/assets/colab-badge.svg\" alt=\"Open In Colab\"/></a>"
      ]
    },
    {
      "cell_type": "markdown",
      "source": [
        "Importing necessary libraries."
      ],
      "metadata": {
        "id": "s_fr1Bcc6eOG"
      }
    },
    {
      "cell_type": "code",
      "execution_count": 17,
      "metadata": {
        "id": "ahmgbKIg2f0o"
      },
      "outputs": [],
      "source": [
        "import keras\n",
        "from keras.datasets import fashion_mnist\n",
        "import numpy as np\n",
        "import matplotlib.pyplot as plt\n",
        "import copy \n"
      ]
    },
    {
      "cell_type": "markdown",
      "source": [
        "Installing and importing wandb"
      ],
      "metadata": {
        "id": "OG-qZnHL7Gyb"
      }
    },
    {
      "cell_type": "code",
      "source": [
        "!pip install wandb -qqq\n",
        "import wandb"
      ],
      "metadata": {
        "id": "VVG9Nfzc7DLP"
      },
      "execution_count": null,
      "outputs": []
    },
    {
      "cell_type": "markdown",
      "source": [
        "Preparing dataset"
      ],
      "metadata": {
        "id": "GU1iINihIbYJ"
      }
    },
    {
      "cell_type": "code",
      "source": [
        "def prepdata():\n",
        "  # Loading data\n",
        "  (train_x,train_y),(test_x,test_y)=fashion_mnist.load_data()\n",
        "  # Defining labels for data\n",
        "  labels=['T-shirt/top','Trouser','Pullover','Dresss','Coat','Sandal','Shirt','Sneaker','Bag','Ankle boot']\n",
        "  \n",
        "  image_shape=train_x.shape[1]*train_x.shape[2]\n",
        "  \n",
        "  train_image_count=len(train_x)\n",
        "  test_image_count=len(test_x)\n",
        "  \n",
        "  # Creating a matrix of image data \n",
        "  # each image is represented as a row by flattening the matrix: converting (60000,28,28) tensor to (60000,784) matrix\n",
        "  x_train=np.zeros((train_image_count,image_shape))\n",
        "  x_test=np.zeros((test_image_count,image_shape))\n",
        "  \n",
        "  for i in range(len(train_x)):\n",
        "    x_train[i]=copy.deepcopy(train_x[i].flatten())\n",
        "    x_test[i]=copy.deepcopy(test_x[i].flatten())\n",
        "  \n",
        "  return(x_train,y_train,x_test,y_test)\n",
        "  "
      ],
      "metadata": {
        "id": "uIanRhNjIZiu"
      },
      "execution_count": 20,
      "outputs": []
    },
    {
      "cell_type": "markdown",
      "source": [
        "Plotting 1 sample image for each class in wandb"
      ],
      "metadata": {
        "id": "IXVAC5it6yee"
      }
    }
  ]
}