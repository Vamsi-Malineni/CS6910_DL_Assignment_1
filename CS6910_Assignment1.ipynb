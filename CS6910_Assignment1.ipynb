{
  "nbformat": 4,
  "nbformat_minor": 0,
  "metadata": {
    "colab": {
      "name": " CS6910_Assignment1",
      "provenance": [],
      "collapsed_sections": [],
      "authorship_tag": "ABX9TyOtMgg/y9rsjbLtNORJpgZf",
      "include_colab_link": true
    },
    "kernelspec": {
      "name": "python3",
      "display_name": "Python 3"
    },
    "language_info": {
      "name": "python"
    }
  },
  "cells": [
    {
      "cell_type": "markdown",
      "metadata": {
        "id": "view-in-github",
        "colab_type": "text"
      },
      "source": [
        "<a href=\"https://colab.research.google.com/github/safikhanSoofiyani/CS6910-Assignment1/blob/main/CS6910_Assignment1.ipynb\" target=\"_parent\"><img src=\"https://colab.research.google.com/assets/colab-badge.svg\" alt=\"Open In Colab\"/></a>"
      ]
    },
    {
      "cell_type": "markdown",
      "source": [
        "Importing necessary libraries."
      ],
      "metadata": {
        "id": "s_fr1Bcc6eOG"
      }
    },
    {
      "cell_type": "code",
      "execution_count": 2,
      "metadata": {
        "id": "ahmgbKIg2f0o"
      },
      "outputs": [],
      "source": [
        "import keras\n",
        "from keras.datasets import fashion_mnist\n",
        "import numpy as np\n",
        "import matplotlib.pyplot as plt\n",
        "import copy \n"
      ]
    },
    {
      "cell_type": "markdown",
      "source": [
        "Installing and importing wandb"
      ],
      "metadata": {
        "id": "OG-qZnHL7Gyb"
      }
    },
    {
      "cell_type": "code",
      "source": [
        "!pip install wandb -qqq\n",
        "import wandb"
      ],
      "metadata": {
        "id": "VVG9Nfzc7DLP",
        "colab": {
          "base_uri": "https://localhost:8080/"
        },
        "outputId": "e94180b1-1ab3-41fc-b5c3-ec7cbed593a4"
      },
      "execution_count": 3,
      "outputs": [
        {
          "output_type": "stream",
          "name": "stdout",
          "text": [
            "\u001b[K     |████████████████████████████████| 1.7 MB 5.1 MB/s \n",
            "\u001b[K     |████████████████████████████████| 143 kB 56.0 MB/s \n",
            "\u001b[K     |████████████████████████████████| 180 kB 38.5 MB/s \n",
            "\u001b[K     |████████████████████████████████| 63 kB 1.5 MB/s \n",
            "\u001b[?25h  Building wheel for pathtools (setup.py) ... \u001b[?25l\u001b[?25hdone\n"
          ]
        }
      ]
    },
    {
      "cell_type": "markdown",
      "source": [
        "Preparing dataset"
      ],
      "metadata": {
        "id": "GU1iINihIbYJ"
      }
    },
    {
      "cell_type": "code",
      "source": [
        "def prepdata():\n",
        "  # Loading data\n",
        "  (train_x,train_y),(test_x,test_y)=fashion_mnist.load_data()\n",
        "  # Defining labels for data\n",
        "  labels=['T-shirt/top','Trouser','Pullover','Dresss','Coat','Sandal','Shirt','Sneaker','Bag','Ankle boot']\n",
        "  \n",
        "  image_shape=train_x.shape[1]*train_x.shape[2]\n",
        "  \n",
        "  train_image_count=len(train_x)\n",
        "  test_image_count=len(test_x)\n",
        "  \n",
        "  # Creating a matrix of image data \n",
        "  # each image is represented as a row by flattening the matrix: converting (60000,28,28) tensor to (60000,784) matrix\n",
        "  x_train=np.zeros((train_image_count,image_shape))\n",
        "  x_test=np.zeros((test_image_count,image_shape))\n",
        "  \n",
        "  for i in range(train_image_count):\n",
        "    x_train[i]=(copy.deepcopy(train_x[i].flatten()))/255.0 # converting the images into grayscale\n",
        "  for i in range(test_image_count):\n",
        "    x_test[i]=(copy.deepcopy(test_x[i].flatten()))/255.0\n",
        "  \n",
        "  # Creating training and testing dataset,\n",
        "  # with each row corresponding to an image and its associated label.\n",
        "  train_data=np.array(list(zip(x_train,train_y)))\n",
        "  test_data=np.array(list(zip(x_test,test_y)))\n",
        "\n",
        "  # Creating validation dataset, with 10% of training data\n",
        "  train_data_len=len(train_data)\n",
        "  val_data_len=int(0.1*train_data_len)\n",
        "\n",
        "  idx=np.random.choice(val_data_len,train_data_len,replace=False)\n",
        "\n",
        "  val_data=train_data[idx]\n",
        "\n",
        "  \n",
        "  return(train_data,test_data,val_data,labels)\n",
        "  "
      ],
      "metadata": {
        "id": "uIanRhNjIZiu"
      },
      "execution_count": 1,
      "outputs": []
    },
    {
      "cell_type": "markdown",
      "source": [
        "Plotting 1 sample image for each class in wandb"
      ],
      "metadata": {
        "id": "IXVAC5it6yee"
      }
    }
  ]
}