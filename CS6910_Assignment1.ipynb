{
  "nbformat": 4,
  "nbformat_minor": 0,
  "metadata": {
    "colab": {
      "name": " CS6910_Assignment1",
      "provenance": [],
      "collapsed_sections": [],
      "authorship_tag": "ABX9TyNoKh2FdwKg5t3jhSPLc7y6",
      "include_colab_link": true
    },
    "kernelspec": {
      "name": "python3",
      "display_name": "Python 3"
    },
    "language_info": {
      "name": "python"
    }
  },
  "cells": [
    {
      "cell_type": "markdown",
      "metadata": {
        "id": "view-in-github",
        "colab_type": "text"
      },
      "source": [
        "<a href=\"https://colab.research.google.com/github/safikhanSoofiyani/CS6910-Assignment1/blob/main/CS6910_Assignment1.ipynb\" target=\"_parent\"><img src=\"https://colab.research.google.com/assets/colab-badge.svg\" alt=\"Open In Colab\"/></a>"
      ]
    },
    {
      "cell_type": "markdown",
      "source": [
        "Importing necessary libraries."
      ],
      "metadata": {
        "id": "s_fr1Bcc6eOG"
      }
    },
    {
      "cell_type": "code",
      "execution_count": null,
      "metadata": {
        "id": "ahmgbKIg2f0o"
      },
      "outputs": [],
      "source": [
        "import keras\n",
        "from keras.datasets import fashion_mnist\n",
        "import numpy as np\n",
        "import matplotlib.pyplot as plt\n",
        "import copy \n"
      ]
    },
    {
      "cell_type": "markdown",
      "source": [
        "Installing and importing wandb"
      ],
      "metadata": {
        "id": "OG-qZnHL7Gyb"
      }
    },
    {
      "cell_type": "code",
      "source": [
        "!pip install wandb -qqq\n",
        "import wandb"
      ],
      "metadata": {
        "id": "VVG9Nfzc7DLP",
        "colab": {
          "base_uri": "https://localhost:8080/"
        },
        "outputId": "441b4532-f75d-4c61-b970-d25c9b0d3219"
      },
      "execution_count": null,
      "outputs": [
        {
          "output_type": "stream",
          "name": "stdout",
          "text": [
            "\u001b[K     |████████████████████████████████| 1.7 MB 5.2 MB/s \n",
            "\u001b[K     |████████████████████████████████| 180 kB 64.9 MB/s \n",
            "\u001b[K     |████████████████████████████████| 143 kB 68.5 MB/s \n",
            "\u001b[K     |████████████████████████████████| 63 kB 1.4 MB/s \n",
            "\u001b[?25h  Building wheel for pathtools (setup.py) ... \u001b[?25l\u001b[?25hdone\n"
          ]
        }
      ]
    },
    {
      "cell_type": "markdown",
      "source": [
        "Preparing dataset"
      ],
      "metadata": {
        "id": "GU1iINihIbYJ"
      }
    },
    {
      "cell_type": "code",
      "source": [
        "def prepdata():\n",
        "  # Loading data\n",
        "  (train_x,train_y),(test_x,test_y)=fashion_mnist.load_data()\n",
        "  # Defining labels for data\n",
        "  labels=['T-shirt/top','Trouser','Pullover','Dresss','Coat','Sandal','Shirt','Sneaker','Bag','Ankle boot']\n",
        "  \n",
        "  image_shape=train_x.shape[1]*train_x.shape[2]\n",
        "  \n",
        "  train_image_count=len(train_x)\n",
        "  test_image_count=len(test_x)\n",
        "  \n",
        "  # Creating a matrix of image data \n",
        "  # each image is represented as a row by flattening the matrix: converting (60000,28,28) tensor to (60000,784) matrix\n",
        "  x_train=np.zeros((train_image_count,image_shape))\n",
        "  x_test=np.zeros((test_image_count,image_shape))\n",
        "  \n",
        "  for i in range(train_image_count):\n",
        "    x_train[i]=(copy.deepcopy(train_x[i].flatten()))/255.0 # converting the images into grayscale\n",
        "  for i in range(test_image_count):\n",
        "    x_test[i]=(copy.deepcopy(test_x[i].flatten()))/255.0\n",
        "  \n",
        "  # Creating training and testing dataset,\n",
        "  # with each row corresponding to an image and its associated label.\n",
        "  train_data=np.array(list(zip(x_train,train_y)))\n",
        "  test_data=np.array(list(zip(x_test,test_y)))\n",
        "\n",
        "  # Creating validation dataset, with 10% of training data\n",
        "  train_data_len=len(train_data)\n",
        "  val_data_len=int(0.1*train_data_len)\n",
        "\n",
        "  # Choosing random data points\n",
        "  idx=np.random.choice(train_data_len,val_data_len,replace=False)\n",
        "\n",
        "  val_data=train_data[idx]\n",
        "\n",
        "  \n",
        "  return(train_data,test_data,val_data,labels)\n",
        "  "
      ],
      "metadata": {
        "id": "uIanRhNjIZiu"
      },
      "execution_count": null,
      "outputs": []
    },
    {
      "cell_type": "markdown",
      "source": [
        "Implementing Feed Forward Neural Network"
      ],
      "metadata": {
        "id": "7OI2Z4lEK1Ro"
      }
    },
    {
      "cell_type": "code",
      "source": [
        "def nn_init(layer_sizes,w_type):\n",
        "  # Layer Sizes denotes the number of neurons per layer\n",
        "  # 784 is for the input layer. \n",
        "  # 32 is for the hidden layers. \n",
        "  # 10 is for the output layers\n",
        "\n",
        "  # initializing parameters for the neural network, \n",
        "  params={}\n",
        "  if(w_type==\"xavier\"):\n",
        "    for i in range(1,len(layer_sizes)):\n",
        "      norm_xav=np.sqrt(6)/np.sqrt(layer_sizes[i]+layer_sizes[i-1])\n",
        "      params[\"w\"+str(i)]=np.random.randn(layer_sizes[i],layer_sizes[i-1])*norm_xav\n",
        "      params[\"b\"+str(i)]=np.zeros((layer_sizes[i],1))\n",
        "\n",
        "  elif(w_type==\"random\"):\n",
        "    for i in range(1,len(layer_sizes)):\n",
        "      params[\"w\"+str(i)]=np.random.randn(layer_sizes[i],layer_sizes[i-1])\n",
        "      params[\"b\"+str(i)]=np.random.randn((layer_sizes[i],1))\n",
        "\n",
        "  else:\n",
        "    print(\"Enter a valid weight initilization type\")\n",
        "\n",
        "  return params\n"
      ],
      "metadata": {
        "id": "2ZICexToBSP0"
      },
      "execution_count": null,
      "outputs": []
    },
    {
      "cell_type": "code",
      "source": [
        "# Activation Functions\n",
        "\n",
        "def sigmoid(pre_act):\n",
        "  return (1/(1+np.exp(-pre_act)))\n",
        "\n",
        "def tanh(pre_act):\n",
        "  return (np.tanh(pre_act))\n",
        "\n",
        "def relu(pre_act):\n",
        "  return (np.maximum(0,pre_act))\n",
        "\n",
        "def softmax(x):\n",
        "  return(np.exp(x)/np.sum(np.exp(x)))"
      ],
      "metadata": {
        "id": "KM-1Mhdzhvgk"
      },
      "execution_count": null,
      "outputs": []
    },
    {
      "cell_type": "code",
      "source": [
        "def forward_prop(input_data,params,active,layer_sizes):\n",
        "  \n",
        "  # Extracting only the image data not the label for the image data\n",
        "  out=copy.deepcopy(input_data[0][0])\n",
        "  out=out.reshape(-1,1)\n",
        "  \n",
        "  h=[out] # To save the activations for each neuron in a layer\n",
        "  a=[out] # To save the preactivation for each neuron in a layer\n",
        "\n",
        "  if(active==\"sigmoid\"):\n",
        "    for i in range(1,len(layer_sizes)-1):\n",
        "      weights=params[\"w\"+str(i)]\n",
        "      biases=params[\"b\"+str(i)]\n",
        "      \n",
        "      out=np.dot(weights,out)+biases\n",
        "      a.append(out)\n",
        "      post_a=sigmoid(out)\n",
        "      h.append(post_a)\n",
        "  \n",
        "  elif(active==\"tanh\"):\n",
        "    for i in range(1,len(layer_sizes)-1):\n",
        "      weights=params[\"w\"+str(i)]\n",
        "      biases=params[\"b\"+str(i)]\n",
        "      \n",
        "      out=np.dot(weights,out)+biases\n",
        "      a.append(out)\n",
        "      post_a=tanh(out)\n",
        "      h.append(post_a)\n",
        "  \n",
        "  elif(active==\"relu\"):\n",
        "    for i in range(1,len(layer_sizes)-1):\n",
        "      weights=params[\"w\"+str(i)]\n",
        "      biases=params[\"b\"+str(i)]\n",
        "      \n",
        "      out=np.dot(weights,out)+biases\n",
        "      a.append(out)\n",
        "      post_a=relu(out)\n",
        "      h.append(post_a)       \n",
        "  else:\n",
        "    print(\"Enter a valid activation function\") \n",
        "\n",
        "  # Final step for forward propagation, using softmax.\n",
        "  weights=params[\"w\"+str(len(layer_sizes)-1)]\n",
        "  biases=params[\"b\"+str(len(layer_sizes)-1)]\n",
        "  \n",
        "  out=np.dot(weights,post_a)+biases\n",
        "  y_hat=softmax(out)\n",
        "  \n",
        "  \n",
        "  return h,a,y_hat"
      ],
      "metadata": {
        "id": "8VaQdyqbrqsO"
      },
      "execution_count": null,
      "outputs": []
    },
    {
      "cell_type": "code",
      "source": [
        "parameters=nn_init(layer_sizes=[784,30,30,30,10],w_type=\"xavier\")\n"
      ],
      "metadata": {
        "id": "LBTwnLGLpcd9"
      },
      "execution_count": null,
      "outputs": []
    },
    {
      "cell_type": "code",
      "source": [
        "# Calculating loss \n",
        "def loss_calc(name,y_t,y_hat):\n",
        "  error=0\n",
        "  if(name==\"sse\"):\n",
        "    error=np.sum(((y_t-y_hat)**2))\n",
        "  elif(name==\"cross_entropy\"):\n",
        "    error=-1*np.sum(np.multiply(y_t,np.log(y_hat)))\n",
        "\n",
        "  return error\n"
      ],
      "metadata": {
        "id": "199HeO5lisTZ"
      },
      "execution_count": null,
      "outputs": []
    },
    {
      "cell_type": "code",
      "source": [
        "# Calculating derivatives of the acitvation functions\n",
        "def sigmoid_der(x):\n",
        "  return sigmoid(x)*(1-sigmoid(x))\n",
        "\n",
        "def tanh_der(x):\n",
        "  return 1-tanh(x)**2\n",
        "\n",
        "def relu_der(x):\n",
        "  if(x<0):\n",
        "    return 0\n",
        "  elif(x>0):\n",
        "    return 1\n",
        "  else :\n",
        "    print(\"error in relu_derivative\")\n"
      ],
      "metadata": {
        "id": "gjjBG1delMS0"
      },
      "execution_count": null,
      "outputs": []
    },
    {
      "cell_type": "code",
      "source": [
        ""
      ],
      "metadata": {
        "id": "kAQEfBMIFfW0"
      },
      "execution_count": null,
      "outputs": []
    }
  ]
}